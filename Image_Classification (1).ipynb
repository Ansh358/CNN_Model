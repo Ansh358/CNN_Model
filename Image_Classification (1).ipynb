{
 "cells": [
  {
   "cell_type": "code",
   "execution_count": 2,
   "id": "ec33f3b9-e898-4315-a8d4-04a3acd435ef",
   "metadata": {},
   "outputs": [],
   "source": [
    "import tensorflow as tf\n",
    "from tensorflow.keras import datasets, layers, models\n",
    "import matplotlib.pyplot as plt\n",
    "import numpy as np\n",
    "import pandas as pd\n",
    "from sklearn.metrics import classification_report\n"
   ]
  },
  {
   "cell_type": "code",
   "execution_count": 3,
   "id": "ce860d78-1201-4eb5-9462-cb631753b0b7",
   "metadata": {},
   "outputs": [],
   "source": [
    "(X_train,y_train),(X_test,y_test)=datasets.cifar10.load_data()"
   ]
  },
  {
   "cell_type": "code",
   "execution_count": 4,
   "id": "904243d9-3fef-48a0-8e91-d237e66b10c2",
   "metadata": {},
   "outputs": [
    {
     "data": {
      "text/plain": [
       "(50000, 32, 32, 3)"
      ]
     },
     "execution_count": 4,
     "metadata": {},
     "output_type": "execute_result"
    }
   ],
   "source": [
    "X_train.shape\n"
   ]
  },
  {
   "cell_type": "code",
   "execution_count": 5,
   "id": "913e46fc-dedc-4ffa-9321-04664268e5cf",
   "metadata": {},
   "outputs": [
    {
     "data": {
      "text/plain": [
       "array([[6],\n",
       "       [9],\n",
       "       [9],\n",
       "       [4],\n",
       "       [1]], dtype=uint8)"
      ]
     },
     "execution_count": 5,
     "metadata": {},
     "output_type": "execute_result"
    }
   ],
   "source": [
    "y_train[:5]"
   ]
  },
  {
   "cell_type": "code",
   "execution_count": 6,
   "id": "b18fcba7-a757-43da-b397-8e44d01850a4",
   "metadata": {},
   "outputs": [
    {
     "data": {
      "text/plain": [
       "array([6, 9, 9, ..., 9, 1, 1], dtype=uint8)"
      ]
     },
     "execution_count": 6,
     "metadata": {},
     "output_type": "execute_result"
    }
   ],
   "source": [
    "y_train = y_train.reshape(-1,)\n",
    "y_train"
   ]
  },
  {
   "cell_type": "code",
   "execution_count": 7,
   "id": "61a4500c-e619-4cd2-8bd8-f3f165b13c58",
   "metadata": {},
   "outputs": [],
   "source": [
    "classes = [\"Airplane\",\"Automobile\",\"Bird\",\"Cat\",\"deer\",\"Dog\",\"Frog\",\"Horse\",\"Ship\",\"Truck\"]"
   ]
  },
  {
   "cell_type": "code",
   "execution_count": 93,
   "id": "5c99cb44-85a5-4757-8e79-62104560c40b",
   "metadata": {},
   "outputs": [],
   "source": [
    "def plot_sample(X, y, index):\n",
    "    plt.figure(figsize=(15, 2))\n",
    "    plt.imshow(X[index])\n",
    "    plt.xlabel(classes[y[index]])\n"
   ]
  },
  {
   "cell_type": "code",
   "execution_count": 95,
   "id": "c1c97ca8-eb19-424a-a023-dc5c5e2d9d1a",
   "metadata": {},
   "outputs": [
    {
     "data": {
      "image/png": "[encoded data removed]",
      "text/plain": [
       "<Figure size 1500x200 with 1 Axes>"
      ]
     },
     "metadata": {},
     "output_type": "display_data"
    }
   ],
   "source": [
    "plot_sample(X_train, y_train,-6)"
   ]
  },
  {
   "cell_type": "code",
   "execution_count": 10,
   "id": "545afe2f-4403-44e3-b365-4d1a6fa71203",
   "metadata": {},
   "outputs": [],
   "source": [
    "X_train = X_train/255\n",
    "X_test = X_test/255"
   ]
  },
  {
   "cell_type": "code",
   "execution_count": 11,
   "id": "c6a6c521-0c66-4e04-84f6-2b98b4b8eb7c",
   "metadata": {},
   "outputs": [
    {
     "data": {
      "text/plain": [
       "array([6, 9, 9, ..., 9, 1, 1], dtype=uint8)"
      ]
     },
     "execution_count": 11,
     "metadata": {},
     "output_type": "execute_result"
    }
   ],
   "source": [
    "y_train"
   ]
  },
  {
   "cell_type": "code",
   "execution_count": 15,
   "id": "3d9c0637-0e47-499f-9928-a1fff8030bee",
   "metadata": {},
   "outputs": [
    {
     "data": {
      "text/plain": [
       "array([6, 9, 9, ..., 9, 1, 1], dtype=uint8)"
      ]
     },
     "execution_count": 15,
     "metadata": {},
     "output_type": "execute_result"
    }
   ],
   "source": [
    "y_train = y_train.reshape(-1)\n",
    "y_test = y_test.reshape(-1)\n",
    "y_train"
   ]
  },
  {
   "cell_type": "markdown",
   "id": "9c9c6c68-403f-4420-8394-2a3a2a714832",
   "metadata": {},
   "source": [
    "**CNN Model**"
   ]
  },
  {
   "cell_type": "code",
   "execution_count": 16,
   "id": "55b40095-b906-4b07-b24d-385f3d02ba07",
   "metadata": {},
   "outputs": [],
   "source": [
    "cnn = models.Sequential([\n",
    "    layers.Input(shape=(32, 32, 3)),\n",
    "    layers.Conv2D(filters=32, kernel_size=(3,3), activation='relu'),\n",
    "    \n",
    "    layers.MaxPooling2D((2,2)),\n",
    "\n",
    "    layers.Conv2D(filters=64, kernel_size=(3,3), activation='relu'),\n",
    "    layers.MaxPooling2D((2,2)),\n",
    "\n",
    "    layers.Flatten(),\n",
    "    layers.Dense(64, activation = 'relu'),\n",
    "    layers.Dense(10, activation = 'softmax')\n",
    "])"
   ]
  },
  {
   "cell_type": "code",
   "execution_count": 17,
   "id": "4b0ff910-d836-43de-8280-b984d6cd43a6",
   "metadata": {},
   "outputs": [],
   "source": [
    "cnn.compile(optimizer='adam',\n",
    "           loss='sparse_categorical_crossentropy',\n",
    "           metrics=['accuracy'])"
   ]
  },
  {
   "cell_type": "code",
   "execution_count": 18,
   "id": "bffc37dc-fd92-4008-b6b0-499b4755feb2",
   "metadata": {},
   "outputs": [
    {
     "name": "stdout",
     "output_type": "stream",
     "text": [
      "Epoch 1/10\n",
      "\u001b[1m1563/1563\u001b[0m \u001b[32m━━━━━━━━━━━━━━━━━━━━\u001b[0m\u001b[37m\u001b[0m \u001b[1m11s\u001b[0m 6ms/step - accuracy: 0.3895 - loss: 1.6772\n",
      "Epoch 2/10\n",
      "\u001b[1m1563/1563\u001b[0m \u001b[32m━━━━━━━━━━━━━━━━━━━━\u001b[0m\u001b[37m\u001b[0m \u001b[1m9s\u001b[0m 6ms/step - accuracy: 0.5959 - loss: 1.1513\n",
      "Epoch 3/10\n",
      "\u001b[1m1563/1563\u001b[0m \u001b[32m━━━━━━━━━━━━━━━━━━━━\u001b[0m\u001b[37m\u001b[0m \u001b[1m9s\u001b[0m 6ms/step - accuracy: 0.6467 - loss: 1.0094\n",
      "Epoch 4/10\n",
      "\u001b[1m1563/1563\u001b[0m \u001b[32m━━━━━━━━━━━━━━━━━━━━\u001b[0m\u001b[37m\u001b[0m \u001b[1m9s\u001b[0m 6ms/step - accuracy: 0.6872 - loss: 0.9036\n",
      "Epoch 5/10\n",
      "\u001b[1m1563/1563\u001b[0m \u001b[32m━━━━━━━━━━━━━━━━━━━━\u001b[0m\u001b[37m\u001b[0m \u001b[1m9s\u001b[0m 6ms/step - accuracy: 0.7095 - loss: 0.8333\n",
      "Epoch 6/10\n",
      "\u001b[1m1563/1563\u001b[0m \u001b[32m━━━━━━━━━━━━━━━━━━━━\u001b[0m\u001b[37m\u001b[0m \u001b[1m9s\u001b[0m 6ms/step - accuracy: 0.7320 - loss: 0.7711\n",
      "Epoch 7/10\n",
      "\u001b[1m1563/1563\u001b[0m \u001b[32m━━━━━━━━━━━━━━━━━━━━\u001b[0m\u001b[37m\u001b[0m \u001b[1m11s\u001b[0m 7ms/step - accuracy: 0.7522 - loss: 0.7164\n",
      "Epoch 8/10\n",
      "\u001b[1m1563/1563\u001b[0m \u001b[32m━━━━━━━━━━━━━━━━━━━━\u001b[0m\u001b[37m\u001b[0m \u001b[1m10s\u001b[0m 7ms/step - accuracy: 0.7640 - loss: 0.6730\n",
      "Epoch 9/10\n",
      "\u001b[1m1563/1563\u001b[0m \u001b[32m━━━━━━━━━━━━━━━━━━━━\u001b[0m\u001b[37m\u001b[0m \u001b[1m10s\u001b[0m 7ms/step - accuracy: 0.7816 - loss: 0.6236\n",
      "Epoch 10/10\n",
      "\u001b[1m1563/1563\u001b[0m \u001b[32m━━━━━━━━━━━━━━━━━━━━\u001b[0m\u001b[37m\u001b[0m \u001b[1m10s\u001b[0m 6ms/step - accuracy: 0.7910 - loss: 0.5922\n"
     ]
    },
    {
     "data": {
      "text/plain": [
       "<keras.src.callbacks.history.History at 0x16c50a58a40>"
      ]
     },
     "execution_count": 18,
     "metadata": {},
     "output_type": "execute_result"
    }
   ],
   "source": [
    "cnn.fit(X_train, y_train, epochs=10)\n"
   ]
  },
  {
   "cell_type": "code",
   "execution_count": 19,
   "id": "16a2a217-0fd8-4441-8f48-390f1c744adc",
   "metadata": {},
   "outputs": [
    {
     "data": {
      "text/plain": [
       "array([0, 1, 2, 3, 4, 5, 6, 7, 8, 9], dtype=uint8)"
      ]
     },
     "execution_count": 19,
     "metadata": {},
     "output_type": "execute_result"
    }
   ],
   "source": [
    "np.unique(y_train)\n"
   ]
  },
  {
   "cell_type": "code",
   "execution_count": 20,
   "id": "b7b49dc6-88c2-43da-ba99-7b837feb00f7",
   "metadata": {},
   "outputs": [
    {
     "name": "stdout",
     "output_type": "stream",
     "text": [
      "\u001b[1m313/313\u001b[0m \u001b[32m━━━━━━━━━━━━━━━━━━━━\u001b[0m\u001b[37m\u001b[0m \u001b[1m1s\u001b[0m 2ms/step - accuracy: 0.7006 - loss: 0.9086\n"
     ]
    },
    {
     "data": {
      "text/plain": [
       "[0.9272476434707642, 0.6976000070571899]"
      ]
     },
     "execution_count": 20,
     "metadata": {},
     "output_type": "execute_result"
    }
   ],
   "source": [
    "cnn.evaluate(X_test,y_test)"
   ]
  },
  {
   "cell_type": "code",
   "execution_count": 137,
   "id": "afbe9dda-a25a-4363-9a26-e565cb2aaeeb",
   "metadata": {},
   "outputs": [
    {
     "data": {
      "image/png": "[encoded data removed]",
      "text/plain": [
       "<Figure size 1500x200 with 1 Axes>"
      ]
     },
     "metadata": {},
     "output_type": "display_data"
    }
   ],
   "source": [
    "plot_sample(X_test,y_test,40\n",
    "           )"
   ]
  },
  {
   "cell_type": "code",
   "execution_count": 22,
   "id": "814cc380-a0de-4b98-a73b-9f4a6d3c01f6",
   "metadata": {},
   "outputs": [
    {
     "name": "stdout",
     "output_type": "stream",
     "text": [
      "\u001b[1m313/313\u001b[0m \u001b[32m━━━━━━━━━━━━━━━━━━━━\u001b[0m\u001b[37m\u001b[0m \u001b[1m1s\u001b[0m 2ms/step\n"
     ]
    }
   ],
   "source": [
    "y_pred=cnn.predict(X_test)"
   ]
  },
  {
   "cell_type": "code",
   "execution_count": 107,
   "id": "5f1bbb62-6221-444d-9ee4-588de784ffba",
   "metadata": {},
   "outputs": [
    {
     "data": {
      "text/plain": [
       "array([[2.38836859e-03, 6.43015228e-05, 4.25633229e-03, 6.39584363e-01,\n",
       "        2.19206311e-04, 1.18615925e-02, 5.51707931e-02, 6.71483940e-05,\n",
       "        2.86210895e-01, 1.76991598e-04],\n",
       "       [5.21089067e-04, 1.43355221e-01, 3.89600427e-06, 4.54735982e-08,\n",
       "        2.36565597e-07, 8.40470971e-10, 7.59182495e-09, 1.57812419e-09,\n",
       "        8.54904771e-01, 1.21480576e-03],\n",
       "       [1.11593194e-01, 3.95736426e-01, 1.29278889e-02, 2.41751298e-02,\n",
       "        1.58305820e-02, 6.45582157e-04, 1.20024684e-04, 3.41065042e-02,\n",
       "        1.18831538e-01, 2.86033094e-01],\n",
       "       [9.01331842e-01, 1.43452343e-02, 2.17629131e-02, 6.59722183e-03,\n",
       "        2.72400659e-02, 2.34951483e-04, 5.77361934e-05, 1.12913933e-03,\n",
       "        2.39516664e-02, 3.34916357e-03],\n",
       "       [1.37110692e-05, 7.55552901e-05, 1.93949491e-02, 5.09474706e-03,\n",
       "        4.49124128e-01, 1.53695379e-04, 5.26139736e-01, 5.97713452e-08,\n",
       "        2.67613746e-06, 7.57090049e-07]], dtype=float32)"
      ]
     },
     "execution_count": 107,
     "metadata": {},
     "output_type": "execute_result"
    }
   ],
   "source": [
    "y_pred[:5]"
   ]
  },
  {
   "cell_type": "code",
   "execution_count": 195,
   "id": "cbee6d73-4a76-4d0c-810b-a5eefe587e6f",
   "metadata": {},
   "outputs": [
    {
     "data": {
      "text/plain": [
       "[3, 8, 1, 0, 6]"
      ]
     },
     "execution_count": 195,
     "metadata": {},
     "output_type": "execute_result"
    }
   ],
   "source": [
    "y_classes = [np.argmax(element) for element in y_pred] # Get the class with highest predicted probability\n",
    "y_classes[:5]\n"
   ]
  },
  {
   "cell_type": "markdown",
   "id": "64669f05-07f0-4c9b-bbb5-88542bcfa0d4",
   "metadata": {},
   "source": [
    "**Correct Classification**"
   ]
  },
  {
   "cell_type": "code",
   "execution_count": 139,
   "id": "d999e704-3c9c-431a-ac4c-bd8d47a19a95",
   "metadata": {},
   "outputs": [
    {
     "data": {
      "image/png": "[encoded data removed]",
      "text/plain": [
       "<Figure size 1500x200 with 1 Axes>"
      ]
     },
     "metadata": {},
     "output_type": "display_data"
    }
   ],
   "source": [
    "plot_sample(X_test,y_test,1\n",
    "           )"
   ]
  },
  {
   "cell_type": "code",
   "execution_count": 145,
   "id": "da7317ce-c79f-4d34-8328-59134ad87570",
   "metadata": {},
   "outputs": [
    {
     "data": {
      "text/plain": [
       "'Ship'"
      ]
     },
     "execution_count": 145,
     "metadata": {},
     "output_type": "execute_result"
    }
   ],
   "source": [
    "classes[y_classes[1]] #Correct Classification"
   ]
  },
  {
   "cell_type": "markdown",
   "id": "6abc1e07-548a-43b4-96b0-d64e51fc1939",
   "metadata": {},
   "source": [
    "**Wrong Classification**"
   ]
  },
  {
   "cell_type": "code",
   "execution_count": 133,
   "id": "10bbcb6f-7d6e-47db-9cb1-061908f6b666",
   "metadata": {},
   "outputs": [
    {
     "data": {
      "image/png": "[encoded data removed]",
      "text/plain": [
       "<Figure size 1500x200 with 1 Axes>"
      ]
     },
     "metadata": {},
     "output_type": "display_data"
    }
   ],
   "source": [
    "plot_sample(X_test,y_test,40\n",
    "           )"
   ]
  },
  {
   "cell_type": "code",
   "execution_count": 199,
   "id": "7e9be9f2-758a-4136-b3d6-c4f848b8fa56",
   "metadata": {},
   "outputs": [
    {
     "data": {
      "text/plain": [
       "'Automobile'"
      ]
     },
     "execution_count": 199,
     "metadata": {},
     "output_type": "execute_result"
    }
   ],
   "source": [
    "classes[y_classes[40]] #Wrong Classification Its an image of deer but its classifying Automobile"
   ]
  },
  {
   "cell_type": "markdown",
   "id": "8cb96549-9190-41b8-b22a-53e41b83148b",
   "metadata": {},
   "source": [
    "**Actual Testing Data Issued**"
   ]
  },
  {
   "cell_type": "code",
   "execution_count": 159,
   "id": "ef133e50-9c23-4851-9230-c26b0a84e1b6",
   "metadata": {},
   "outputs": [
    {
     "data": {
      "text/plain": [
       "array([3, 8, 8, 0, 6], dtype=uint8)"
      ]
     },
     "execution_count": 159,
     "metadata": {},
     "output_type": "execute_result"
    }
   ],
   "source": [
    "y_test[:5] #Actual Testing Data Issued"
   ]
  },
  {
   "cell_type": "markdown",
   "id": "226474d0-1eba-48d9-829b-c7ef7c30900b",
   "metadata": {},
   "source": [
    "**After applying cnn model on Testing Data**"
   ]
  },
  {
   "cell_type": "code",
   "execution_count": 207,
   "id": "05a89a9d-54f9-443a-8182-4de978821967",
   "metadata": {},
   "outputs": [
    {
     "data": {
      "text/plain": [
       "[3, 8, 1, 0, 6]"
      ]
     },
     "execution_count": 207,
     "metadata": {},
     "output_type": "execute_result"
    }
   ],
   "source": [
    "y_classes[:5] #Predicted Data"
   ]
  },
  {
   "cell_type": "code",
   "execution_count": 185,
   "id": "fc873af6-753d-4527-b8ec-d2b4faedb710",
   "metadata": {},
   "outputs": [
    {
     "name": "stdout",
     "output_type": "stream",
     "text": [
      "Total Data: 10000\n",
      "Total mismatches: 3024\n"
     ]
    }
   ],
   "source": [
    "#Additional Just to know how many unmatched classifications are there\n",
    "unmatch = []\n",
    "for i in range(len(y_test)):\n",
    "    if y_test[i] != y_classes[i]:\n",
    "        unmatch.append((y_test[i], y_classes[i]))\n",
    "print(\"Total Data:\", len(y_test))\n",
    "print(\"Total mismatches:\", len(unmatch))\n"
   ]
  },
  {
   "cell_type": "code",
   "execution_count": 218,
   "id": "e57adbdf-4cfb-475c-8124-6f7b51d85828",
   "metadata": {},
   "outputs": [
    {
     "name": "stdout",
     "output_type": "stream",
     "text": [
      "Classification Report : \n",
      "               precision    recall  f1-score   support\n",
      "\n",
      "           0       0.73      0.72      0.72      1000\n",
      "           1       0.79      0.85      0.82      1000\n",
      "           2       0.65      0.58      0.61      1000\n",
      "           3       0.48      0.58      0.53      1000\n",
      "           4       0.69      0.59      0.64      1000\n",
      "           5       0.67      0.51      0.58      1000\n",
      "           6       0.74      0.79      0.77      1000\n",
      "           7       0.74      0.75      0.75      1000\n",
      "           8       0.81      0.77      0.79      1000\n",
      "           9       0.71      0.82      0.76      1000\n",
      "\n",
      "    accuracy                           0.70     10000\n",
      "   macro avg       0.70      0.70      0.70     10000\n",
      "weighted avg       0.70      0.70      0.70     10000\n",
      "\n"
     ]
    }
   ],
   "source": [
    "# Print precision, recall, and F1-score for each class\n",
    "print(\"Classification Report : \\n\",classification_report(y_test,y_classes))"
   ]
  },
  {
   "cell_type": "code",
   "execution_count": 220,
   "id": "0fa7f9ab-6be1-4e0a-8e30-ea518b7ecd44",
   "metadata": {},
   "outputs": [
    {
     "name": "stdout",
     "output_type": "stream",
     "text": [
      "0 = Airplane\n",
      "1 = Automobile\n",
      "2 = Bird\n",
      "3 = Cat\n",
      "4 = deer\n",
      "5 = Dog\n",
      "6 = Frog\n",
      "7 = Horse\n",
      "8 = Ship\n",
      "9 = Truck\n"
     ]
    }
   ],
   "source": [
    "for i in range(len(classes)):\n",
    "    print(i,'=',classes[i])"
   ]
  },
  {
   "cell_type": "markdown",
   "id": "d0f38f7a-0a78-438c-a304-3a5c61053cc8",
   "metadata": {},
   "source": [
    "**Conclusion (with Class Names)\n",
    "The model got 70% accuracy overall on the CIFAR-10 dataset.\n",
    "Best results:\n",
    "It did really well on Automobile, Ship, Frog, and Horse these were predicted correctly most of the time.\n",
    "Weak spots:\n",
    "Cat, Dog, and Bird were often confused with each other. Cat was the toughest, with the lowest accuracy.**"
   ]
  },
  {
   "cell_type": "code",
   "execution_count": null,
   "id": "7c9b72c9-11c2-4279-8e83-1c3aabd2b7c2",
   "metadata": {},
   "outputs": [],
   "source": []
  }
 ],
 "metadata": {
  "kernelspec": {
   "display_name": "Python [conda env:base] *",
   "language": "python",
   "name": "conda-base-py"
  },
  "language_info": {
   "codemirror_mode": {
    "name": "ipython",
    "version": 3
   },
   "file_extension": ".py",
   "mimetype": "text/x-python",
   "name": "python",
   "nbconvert_exporter": "python",
   "pygments_lexer": "ipython3",
   "version": "3.12.7"
  }
 },
 "nbformat": 4,
 "nbformat_minor": 5
}
